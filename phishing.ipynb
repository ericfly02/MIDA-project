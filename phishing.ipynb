{
 "cells": [
  {
   "cell_type": "markdown",
   "metadata": {},
   "source": [
    "Importem les llibreries necessaries per a la realització del projecte."
   ]
  },
  {
   "cell_type": "code",
   "execution_count": 116,
   "metadata": {},
   "outputs": [],
   "source": [
    "import pandas as pd\n",
    "from pandas import plotting\n",
    "import numpy as np\n",
    "from sklearn.preprocessing import LabelEncoder\n",
    "import matplotlib.pyplot as plt\n",
    "import seaborn as sns"
   ]
  },
  {
   "cell_type": "markdown",
   "metadata": {},
   "source": [
    "# 1. Preprocessament de Dades"
   ]
  },
  {
   "cell_type": "markdown",
   "metadata": {},
   "source": [
    "En aquesta secció, realitzarem el pre-processament de les dades per preparar-les per a la construcció de models de detecció de phishing."
   ]
  },
  {
   "cell_type": "markdown",
   "metadata": {},
   "source": [
    "#### <b>1.1 Lectura de Dades</b>\n"
   ]
  },
  {
   "cell_type": "markdown",
   "metadata": {},
   "source": [
    "Primer, llegim el conjunt de dades des del fitxer CSV i mostrem les primeres files per entendre la seva estructura."
   ]
  },
  {
   "cell_type": "code",
   "execution_count": null,
   "metadata": {},
   "outputs": [],
   "source": [
    "data = pd.read_csv(\"Datasets/dataset_phishing.csv\")\n",
    "data.head()"
   ]
  },
  {
   "cell_type": "markdown",
   "metadata": {},
   "source": [
    "#### <b>1.2 Anàlisi Exploratori de Dades</b>"
   ]
  },
  {
   "cell_type": "markdown",
   "metadata": {},
   "source": [
    "A continuació, realitzem un anàlisi exploratori de les dades per comprendre millor el conjunt de dades. Això inclou una descripció estadística, la comprovació de valors nuls, la identificació dels tipus de dades, la informació sobre el nombre de files i columnes, i la cerca de files duplicades."
   ]
  },
  {
   "cell_type": "code",
   "execution_count": null,
   "metadata": {},
   "outputs": [],
   "source": [
    "# Obtenim una descripció completa del dataset.\n",
    "data.describe([x*0.1 for x in range(10)])"
   ]
  },
  {
   "cell_type": "code",
   "execution_count": null,
   "metadata": {},
   "outputs": [],
   "source": [
    "# Informació sobre el nombre de files i columnes.\n",
    "data.info()"
   ]
  },
  {
   "cell_type": "code",
   "execution_count": null,
   "metadata": {},
   "outputs": [],
   "source": [
    "# Nombre de valors nuls en cada columna.\n",
    "data.isnull().sum()"
   ]
  },
  {
   "cell_type": "code",
   "execution_count": null,
   "metadata": {},
   "outputs": [],
   "source": [
    "# Nombre de files duplicades.\n",
    "data.duplicated().sum()"
   ]
  },
  {
   "cell_type": "markdown",
   "metadata": {},
   "source": [
    "##### <b>1.2.1 Correlació de caracteristiques</b>"
   ]
  },
  {
   "cell_type": "markdown",
   "metadata": {},
   "source": [
    "Avaluarem la correlació de cada característica amb la variable objectiu per obtenir un sentit inicial de la seva importància. Les característiques que tenen una correlació molt baixa es poden considerar per a l'eliminació."
   ]
  },
  {
   "cell_type": "code",
   "execution_count": null,
   "metadata": {},
   "outputs": [],
   "source": [
    "# Convertim la columna 'status' a valors numèrics (1 per a 'phishing' i 0 per a 'legitimate')\n",
    "data['status_numeric'] = data['status'].apply(lambda x: 1 if x == 'phishing' else 0)\n",
    "\n",
    "# Calculem la correlació de cada característica amb la columna 'status_numeric'\n",
    "correlations = data.drop(columns=['url', 'status']).corrwith(data['status_numeric']).sort_values()\n",
    "\n",
    "# Visualitzem les correlacions\n",
    "plt.figure(figsize=(10, 20))\n",
    "sns.barplot(x=correlations, y=correlations.index)\n",
    "plt.title('Correlació de les característiques amb la variable objectiu')\n",
    "plt.xlabel('Correlació')\n",
    "plt.ylabel('Característiques')\n",
    "plt.show()"
   ]
  },
  {
   "cell_type": "markdown",
   "metadata": {},
   "source": [
    "A partir del diagrama de correlació, podem veure com cada característica es correlaciona amb la variable de destinació. \n",
    "\n",
    "Important:\n",
    "\n",
    "    · Una correlació propera a 1 indica una forta relació positiva.\n",
    "    · Una correlació propera a -1 indica una forta relació negativa.\n",
    "    · Una correlació propera a 0 indica poca o cap relació.\n",
    "\n",
    "Basant-nos en això, podríem considerar eliminar característiques que tenen una correlació molt propera a 0, ja que podrien no contribuir molt al poder predictiu d'un model. No obstant això, els mantindrem de moment i podríem revisar aquesta decisió després de l'avaluació del model."
   ]
  },
  {
   "cell_type": "markdown",
   "metadata": {},
   "source": [
    "#### <b>1.3 Manipulació de Dades</b>"
   ]
  },
  {
   "cell_type": "markdown",
   "metadata": {},
   "source": [
    "En aquesta secció, realitzem les següents etapes de pre-processament de dades:"
   ]
  },
  {
   "cell_type": "markdown",
   "metadata": {},
   "source": [
    "En primer lloc, haurem de guardar en una nova variable el conjunt de dades original per a poder fer modificacions sobre aquesta."
   ]
  },
  {
   "cell_type": "code",
   "execution_count": 122,
   "metadata": {},
   "outputs": [],
   "source": [
    "data_preprocessada = data"
   ]
  },
  {
   "cell_type": "markdown",
   "metadata": {},
   "source": [
    "Eliminarem la columna \"url\" ja que és única per a cada fila i no aportarà informació útil per al model de classificació. En aquest cas, estem simplificant el conjunt de dades eliminant una característica que no és rellevant per a la nostra anàlisi."
   ]
  },
  {
   "cell_type": "code",
   "execution_count": null,
   "metadata": {},
   "outputs": [],
   "source": [
    "data_preprocessada = data_preprocessada.drop(columns=['url'])\n",
    "data_preprocessada.head()"
   ]
  },
  {
   "cell_type": "markdown",
   "metadata": {},
   "source": [
    "##### <b>1.3.1 Tractament de Valors Nuls</b>"
   ]
  },
  {
   "cell_type": "markdown",
   "metadata": {},
   "source": [
    "· Per a les <b>columnes numèriques</b>, substituïm els valors nuls per la mitjana de la columna. <br>\n",
    "· Per a les <b>columnes categòriques</b>, substituïm els valors nuls pel valor més freqüent de la columna."
   ]
  },
  {
   "cell_type": "code",
   "execution_count": 123,
   "metadata": {},
   "outputs": [],
   "source": [
    "# Tractament de valors nuls\n",
    "for column in data_preprocessada.select_dtypes(include=['int', 'float']).columns:\n",
    "    data_preprocessada[column].fillna(data_preprocessada[column].mean(), inplace=True)\n",
    "\n",
    "for column in data_preprocessada.select_dtypes(include=['object']).columns:\n",
    "    data_preprocessada[column].fillna(data_preprocessada[column].mode()[0], inplace=True)"
   ]
  },
  {
   "cell_type": "markdown",
   "metadata": {},
   "source": [
    "##### <b>1.3.2 Eliminar columnes Redundants</b>"
   ]
  },
  {
   "cell_type": "markdown",
   "metadata": {},
   "source": [
    "Simplificarem el conjunt de dades. \n",
    "Analitzem si hi ha alguna columna que pugui ser redundant o no útil per a la nostra anàlisi. \n",
    "Revisem les estadístiques descriptives de les columnes per veure si alguna d'elles presenta variància zero o valors constants, ja que aquestes columnes no aportarien informació útil per a la majoria d'algorismes."
   ]
  },
  {
   "cell_type": "code",
   "execution_count": 124,
   "metadata": {},
   "outputs": [
    {
     "data": {
      "text/plain": [
       "Index(['nb_or', 'ratio_nullHyperlinks', 'ratio_intRedirection',\n",
       "       'ratio_intErrors', 'submit_email', 'sfh'],\n",
       "      dtype='object')"
      ]
     },
     "execution_count": 124,
     "metadata": {},
     "output_type": "execute_result"
    }
   ],
   "source": [
    "# Obtenim les estadistiques de les columnes numeriques.\n",
    "desc_stats = data_preprocessada.describe()\n",
    "\n",
    "# Identifiquem les columnes amb 0 variança (desviació estàndard igual a zero)\n",
    "zero_variance_columns = desc_stats.columns[desc_stats.loc[\"std\"] == 0]\n",
    "\n",
    "zero_variance_columns"
   ]
  },
  {
   "cell_type": "markdown",
   "metadata": {},
   "source": [
    "Les columnes següents presenten variància zero, la qual cosa significa que tenen el mateix valor en totes les files:\n",
    "\n",
    "    · nb_or\n",
    "    · ratio_nullHyperlinks\n",
    "    · ratio_intRedirection\n",
    "    · ratio_intErrors\n",
    "    · submit_email\n",
    "    · sfh\n",
    "    \n",
    "Aquestes columnes poden ser considerades com a redundants ja que no aporten informació variable al nostre model. Per tant, es recomana eliminar-les del conjunt de dades.\n",
    "\n",
    "A continuació, procedirem a eliminar aquestes columnes del conjunt de dades.​"
   ]
  },
  {
   "cell_type": "code",
   "execution_count": null,
   "metadata": {},
   "outputs": [],
   "source": [
    "# Remove the zero variance columns from the dataset\n",
    "data_preprocessada = data_preprocessada.drop(columns=zero_variance_columns)\n",
    "\n",
    "# Display the first few rows of the cleaned dataset\n",
    "data_preprocessada.head()"
   ]
  },
  {
   "cell_type": "markdown",
   "metadata": {},
   "source": [
    "##### <b>1.3.3 Conversió de Dades Categòriques a Dades Numèriques</b>"
   ]
  },
  {
   "cell_type": "markdown",
   "metadata": {},
   "source": [
    "· Utilitzem <b>LabelEncoder</b> per transformar les columnes categòriques en dades numèriques."
   ]
  },
  {
   "cell_type": "code",
   "execution_count": 126,
   "metadata": {},
   "outputs": [],
   "source": [
    "# Conversió de dades categòriques a numèriques\n",
    "le = LabelEncoder()\n",
    "for column in data_preprocessada.columns:\n",
    "    if data_preprocessada[column].dtype == type(object):\n",
    "        data_preprocessada[column] = le.fit_transform(data_preprocessada[column])"
   ]
  },
  {
   "cell_type": "markdown",
   "metadata": {},
   "source": [
    "##### <b>1.3.4 Normalització de Dades Numèriques</b>"
   ]
  },
  {
   "cell_type": "markdown",
   "metadata": {},
   "source": [
    "Normalitzem les dades numèriques en un rang de 0 a 1."
   ]
  },
  {
   "cell_type": "code",
   "execution_count": 127,
   "metadata": {},
   "outputs": [],
   "source": [
    "# Normalització de dades numèriques\n",
    "for column in data_preprocessada.columns:\n",
    "    if data_preprocessada[column].dtype in ['int16', 'int32', 'int64', 'float16', 'float32', 'float64']:\n",
    "        data_preprocessada[column] = (data_preprocessada[column] - data_preprocessada[column].min()) / (data_preprocessada[column].max() - data_preprocessada[column].min())"
   ]
  },
  {
   "cell_type": "markdown",
   "metadata": {},
   "source": [
    "Ara que les dades han estat pre-processades, estan llestes per ser utilitzades per a la construcció i avaluació de models de detecció de phishing."
   ]
  },
  {
   "cell_type": "code",
   "execution_count": null,
   "metadata": {},
   "outputs": [],
   "source": [
    "# Dades pre-processades\n",
    "data_preprocessada.head()"
   ]
  },
  {
   "cell_type": "markdown",
   "metadata": {},
   "source": [
    "#### <b>1.4 Histogrames i Boxplot</b>"
   ]
  },
  {
   "cell_type": "markdown",
   "metadata": {},
   "source": [
    "Crearem gràfics de caixes (boxplots) i histogrames per visualitzar la distribució de les característiques numèriques en el conjunt de dades pre-processades i originals. Aquests gràfics ens ajudaran a entendre millor com es distribueixen les dades i a identificar valors extrems (outliers)."
   ]
  },
  {
   "cell_type": "markdown",
   "metadata": {},
   "source": [
    "##### <b>1.4.1 Gràfics de Caixes (Boxplots)</b>"
   ]
  },
  {
   "cell_type": "markdown",
   "metadata": {},
   "source": [
    "Els gràfics de caixes són útils per representar visualment la distribució i la variabilitat de les dades numèriques. Ens mostren la mediana, els quartils i els valors extrems"
   ]
  },
  {
   "cell_type": "markdown",
   "metadata": {},
   "source": [
    "<b>· Dades originals</b>"
   ]
  },
  {
   "cell_type": "code",
   "execution_count": null,
   "metadata": {},
   "outputs": [],
   "source": [
    "# Creació de gràfics de caixes més grans per a característiques numèriques\n",
    "plt.figure(figsize=(36, 30)) \n",
    "sns.set(style=\"whitegrid\")\n",
    "\n",
    "# Seleccionem les característiques numèriques per als quals volem generar els boxplots\n",
    "features_for_boxplot = data.select_dtypes(include=['int', 'float'])\n",
    "\n",
    "# Dibuixem els gràfics de caixes\n",
    "sns.boxplot(data=features_for_boxplot, orient=\"h\", palette=\"Set2\")\n",
    "plt.title(\"Boxplots de Característiques Numèriques\")\n",
    "plt.xlabel(\"Valor\")\n",
    "plt.show()"
   ]
  },
  {
   "cell_type": "markdown",
   "metadata": {},
   "source": [
    "<b>· Dades pre-processades</b>"
   ]
  },
  {
   "cell_type": "code",
   "execution_count": null,
   "metadata": {},
   "outputs": [],
   "source": [
    "# Creació de gràfics de caixes més grans per a característiques numèriques\n",
    "plt.figure(figsize=(36, 30)) \n",
    "sns.set(style=\"whitegrid\")\n",
    "\n",
    "# Seleccionem les característiques numèriques per als quals volem generar els boxplots\n",
    "features_for_boxplot = data_preprocessada.select_dtypes(include=['int', 'float'])\n",
    "\n",
    "# Dibuixem els gràfics de caixes\n",
    "sns.boxplot(data=features_for_boxplot, orient=\"h\", palette=\"Set2\")\n",
    "plt.title(\"Boxplots de Característiques Numèriques\")\n",
    "plt.xlabel(\"Valor\")\n",
    "plt.show()"
   ]
  },
  {
   "cell_type": "markdown",
   "metadata": {},
   "source": [
    "##### <b>1.4.1 Histogrames</b>"
   ]
  },
  {
   "cell_type": "markdown",
   "metadata": {},
   "source": [
    "Els histogrames mostren la distribució de les dades numèriques i ens permeten veure la forma de la distribució."
   ]
  },
  {
   "cell_type": "markdown",
   "metadata": {},
   "source": [
    "<b>· Dades originals</b>"
   ]
  },
  {
   "cell_type": "code",
   "execution_count": null,
   "metadata": {},
   "outputs": [],
   "source": [
    "# Creació d'histogrames més grans per a característiques numèriques\n",
    "plt.figure(figsize=(56, 30))  \n",
    "sns.set(style=\"whitegrid\")\n",
    "\n",
    "# Seleccionem les característiques numèriques per als quals volem generar histogrames\n",
    "features_for_histogram = data.select_dtypes(include=['int', 'float'])\n",
    "\n",
    "# Dibuixem els histogrames\n",
    "for feature in features_for_histogram.columns:\n",
    "    sns.histplot(data[feature], kde=True, bins=20, label=feature)\n",
    "\n",
    "plt.title(\"Histogrames de Característiques Numèriques\")\n",
    "plt.xlabel(\"Valor\")\n",
    "plt.legend()\n",
    "plt.show()"
   ]
  },
  {
   "cell_type": "markdown",
   "metadata": {},
   "source": [
    "<b>· Dades pre-processades</b>"
   ]
  },
  {
   "cell_type": "code",
   "execution_count": null,
   "metadata": {},
   "outputs": [],
   "source": [
    "# Creació d'histogrames més grans per a característiques numèriques\n",
    "plt.figure(figsize=(56, 30))  \n",
    "sns.set(style=\"whitegrid\")\n",
    "\n",
    "# Seleccionem les característiques numèriques per als quals volem generar histogrames\n",
    "features_for_histogram = data_preprocessada.select_dtypes(include=['int', 'float'])\n",
    "\n",
    "# Dibuixem els histogrames\n",
    "for feature in features_for_histogram.columns:\n",
    "    sns.histplot(data_preprocessada[feature], kde=True, bins=20, label=feature)\n",
    "\n",
    "plt.title(\"Histogrames de Característiques Numèriques\")\n",
    "plt.xlabel(\"Valor\")\n",
    "plt.legend()\n",
    "plt.show()"
   ]
  },
  {
   "cell_type": "markdown",
   "metadata": {},
   "source": [
    "#### <b>1.5 PCA (Principal Component Analysis)</b>"
   ]
  },
  {
   "cell_type": "code",
   "execution_count": null,
   "metadata": {},
   "outputs": [],
   "source": [
    "from sklearn.decomposition import PCA\n",
    "import matplotlib.pyplot as plt\n",
    "\n",
    "# Apliquem PCA\n",
    "pca = PCA()\n",
    "components = pca.fit_transform(data_preprocessada)\n",
    "\n",
    "# Visualitzem la variància explicada per cada component principal\n",
    "plt.figure(figsize=(12, 6))\n",
    "plt.bar(range(1, len(pca.explained_variance_ratio_) + 1), pca.explained_variance_ratio_)\n",
    "plt.xlabel('Component principal')\n",
    "plt.ylabel('Variància explicada')\n",
    "plt.title('Variància explicada per cada component principal')\n",
    "plt.show()\n"
   ]
  },
  {
   "cell_type": "markdown",
   "metadata": {},
   "source": [
    "A partir de la visualització, podem fer les següents observacions:\n",
    "\n",
    "    1. Declivi ràpid inicial: Les primeres components principals expliquen una quantitat significativa de la variabilitat de les dades, amb un declivi ràpid en la variància explicada a mesura que augmenta el número de components.\n",
    "    \n",
    "    2. Plateau després d'unes poques components: Després d'un cert número de components (aproximadament 10-15), la variància explicada per cada component addicional disminueix significativament, arribant a un plateau. Això indica que la major part de la informació està continguda en les primeres components.\n",
    "\n",
    "Aquestes observacions suggerixen que podríem reduir la dimensió del conjunt de dades utilitzant només les primeres components principals sense perdre massa informació. Aquesta reducció podria ser útil per visualitzar les dades o per accelerar l'entrenament de models de machine learning.\n",
    "\n",
    "A continuació, podem calcular la variància acumulada explicada per les components per determinar quantes d'elles s'haurien d'utilitzar per capturar una determinada quantitat de la variabilitat total (per exemple, el 95%).​"
   ]
  },
  {
   "cell_type": "code",
   "execution_count": null,
   "metadata": {},
   "outputs": [],
   "source": [
    "# Calculem la variància acumulada explicada\n",
    "variancia_acumulada = pca.explained_variance_ratio_.cumsum()\n",
    "\n",
    "# Visualitzem la variància acumulada\n",
    "plt.figure(figsize=(12, 6))\n",
    "plt.plot(range(1, len(variancia_acumulada) + 1), variancia_acumulada, marker='o', linestyle='--')\n",
    "plt.xlabel('Nombre de components')\n",
    "plt.ylabel('Variància acumulada explicada')\n",
    "plt.title('Variància acumulada explicada per nombre de components')\n",
    "plt.show()\n",
    "\n",
    "# Determinem el nombre de components necessaris per explicar almenys el 95% de la variància\n",
    "components_95_variancia = sum(variancia_acumulada < 0.95) + 1\n",
    "\n",
    "components_95_variancia"
   ]
  },
  {
   "cell_type": "markdown",
   "metadata": {},
   "source": [
    "La visualització mostra la variància acumulada explicada a mesura que augmentem el nombre de components principals. A partir d'aquesta, podem observar que:\n",
    "\n",
    "    1. La variància acumulada augmenta ràpidament amb les primeres components i comença a estabilitzar-se a mesura que s'afegeixen més components.\n",
    "\n",
    "    2. Per explicar almenys el 95% de la variància total de les dades, necessitaríem utilitzar 29 components principals."
   ]
  },
  {
   "cell_type": "code",
   "execution_count": null,
   "metadata": {},
   "outputs": [],
   "source": [
    "# Reajustem el PCA amb 29 components\n",
    "pca_29 = PCA(n_components=components_95_variancia)\n",
    "data_reduida = pca_29.fit_transform(data_preprocessada)\n",
    "\n",
    "# Mostrem les primeres files de la representació reduïda\n",
    "data_reduida[:5]"
   ]
  }
 ],
 "metadata": {
  "kernelspec": {
   "display_name": "Python 3",
   "language": "python",
   "name": "python3"
  },
  "language_info": {
   "codemirror_mode": {
    "name": "ipython",
    "version": 3
   },
   "file_extension": ".py",
   "mimetype": "text/x-python",
   "name": "python",
   "nbconvert_exporter": "python",
   "pygments_lexer": "ipython3",
   "version": "3.11.4"
  }
 },
 "nbformat": 4,
 "nbformat_minor": 2
}
