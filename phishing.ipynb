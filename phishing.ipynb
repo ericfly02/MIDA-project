{
 "cells": [
  {
   "cell_type": "markdown",
   "metadata": {},
   "source": [
    "Importem les llibreries necessaries per a la realització del projecte."
   ]
  },
  {
   "cell_type": "code",
   "execution_count": 2,
   "metadata": {},
   "outputs": [],
   "source": [
    "import pandas as pd\n",
    "from pandas import plotting\n",
    "import numpy as np\n",
    "from sklearn.preprocessing import LabelEncoder\n",
    "import matplotlib.pyplot as plt\n",
    "import seaborn as sns\n",
    "from sklearn.model_selection import train_test_split\n",
    "from sklearn.model_selection import StratifiedKFold\n",
    "from sklearn.ensemble import RandomForestClassifier\n",
    "from sklearn.model_selection import cross_val_score"
   ]
  },
  {
   "cell_type": "markdown",
   "metadata": {},
   "source": [
    "# 1. Preprocessament de Dades"
   ]
  },
  {
   "cell_type": "markdown",
   "metadata": {},
   "source": [
    "En aquesta secció, realitzarem el pre-processament de les dades per preparar-les per a la construcció de models de detecció de phishing."
   ]
  },
  {
   "cell_type": "markdown",
   "metadata": {},
   "source": [
    "#### <b>1.1 Lectura de Dades</b>\n"
   ]
  },
  {
   "cell_type": "markdown",
   "metadata": {},
   "source": [
    "Primer, llegim el conjunt de dades des del fitxer CSV i mostrem les primeres files per entendre la seva estructura."
   ]
  },
  {
   "cell_type": "code",
   "execution_count": 4,
   "metadata": {},
   "outputs": [
    {
     "data": {
      "text/html": [
       "<div>\n",
       "<style scoped>\n",
       "    .dataframe tbody tr th:only-of-type {\n",
       "        vertical-align: middle;\n",
       "    }\n",
       "\n",
       "    .dataframe tbody tr th {\n",
       "        vertical-align: top;\n",
       "    }\n",
       "\n",
       "    .dataframe thead th {\n",
       "        text-align: right;\n",
       "    }\n",
       "</style>\n",
       "<table border=\"1\" class=\"dataframe\">\n",
       "  <thead>\n",
       "    <tr style=\"text-align: right;\">\n",
       "      <th></th>\n",
       "      <th>url</th>\n",
       "      <th>length_url</th>\n",
       "      <th>length_hostname</th>\n",
       "      <th>ip</th>\n",
       "      <th>nb_dots</th>\n",
       "      <th>nb_hyphens</th>\n",
       "      <th>nb_at</th>\n",
       "      <th>nb_qm</th>\n",
       "      <th>nb_and</th>\n",
       "      <th>nb_or</th>\n",
       "      <th>...</th>\n",
       "      <th>domain_in_title</th>\n",
       "      <th>domain_with_copyright</th>\n",
       "      <th>whois_registered_domain</th>\n",
       "      <th>domain_registration_length</th>\n",
       "      <th>domain_age</th>\n",
       "      <th>web_traffic</th>\n",
       "      <th>dns_record</th>\n",
       "      <th>google_index</th>\n",
       "      <th>page_rank</th>\n",
       "      <th>status</th>\n",
       "    </tr>\n",
       "  </thead>\n",
       "  <tbody>\n",
       "    <tr>\n",
       "      <th>0</th>\n",
       "      <td>http://www.crestonwood.com/router.php</td>\n",
       "      <td>37</td>\n",
       "      <td>19</td>\n",
       "      <td>0</td>\n",
       "      <td>3</td>\n",
       "      <td>0</td>\n",
       "      <td>0</td>\n",
       "      <td>0</td>\n",
       "      <td>0</td>\n",
       "      <td>0</td>\n",
       "      <td>...</td>\n",
       "      <td>0</td>\n",
       "      <td>1</td>\n",
       "      <td>0</td>\n",
       "      <td>45</td>\n",
       "      <td>-1</td>\n",
       "      <td>0</td>\n",
       "      <td>1</td>\n",
       "      <td>1</td>\n",
       "      <td>4</td>\n",
       "      <td>legitimate</td>\n",
       "    </tr>\n",
       "    <tr>\n",
       "      <th>1</th>\n",
       "      <td>http://shadetreetechnology.com/V4/validation/a...</td>\n",
       "      <td>77</td>\n",
       "      <td>23</td>\n",
       "      <td>1</td>\n",
       "      <td>1</td>\n",
       "      <td>0</td>\n",
       "      <td>0</td>\n",
       "      <td>0</td>\n",
       "      <td>0</td>\n",
       "      <td>0</td>\n",
       "      <td>...</td>\n",
       "      <td>1</td>\n",
       "      <td>0</td>\n",
       "      <td>0</td>\n",
       "      <td>77</td>\n",
       "      <td>5767</td>\n",
       "      <td>0</td>\n",
       "      <td>0</td>\n",
       "      <td>1</td>\n",
       "      <td>2</td>\n",
       "      <td>phishing</td>\n",
       "    </tr>\n",
       "    <tr>\n",
       "      <th>2</th>\n",
       "      <td>https://support-appleld.com.secureupdate.duila...</td>\n",
       "      <td>126</td>\n",
       "      <td>50</td>\n",
       "      <td>1</td>\n",
       "      <td>4</td>\n",
       "      <td>1</td>\n",
       "      <td>0</td>\n",
       "      <td>1</td>\n",
       "      <td>2</td>\n",
       "      <td>0</td>\n",
       "      <td>...</td>\n",
       "      <td>1</td>\n",
       "      <td>0</td>\n",
       "      <td>0</td>\n",
       "      <td>14</td>\n",
       "      <td>4004</td>\n",
       "      <td>5828815</td>\n",
       "      <td>0</td>\n",
       "      <td>1</td>\n",
       "      <td>0</td>\n",
       "      <td>phishing</td>\n",
       "    </tr>\n",
       "    <tr>\n",
       "      <th>3</th>\n",
       "      <td>http://rgipt.ac.in</td>\n",
       "      <td>18</td>\n",
       "      <td>11</td>\n",
       "      <td>0</td>\n",
       "      <td>2</td>\n",
       "      <td>0</td>\n",
       "      <td>0</td>\n",
       "      <td>0</td>\n",
       "      <td>0</td>\n",
       "      <td>0</td>\n",
       "      <td>...</td>\n",
       "      <td>1</td>\n",
       "      <td>0</td>\n",
       "      <td>0</td>\n",
       "      <td>62</td>\n",
       "      <td>-1</td>\n",
       "      <td>107721</td>\n",
       "      <td>0</td>\n",
       "      <td>0</td>\n",
       "      <td>3</td>\n",
       "      <td>legitimate</td>\n",
       "    </tr>\n",
       "    <tr>\n",
       "      <th>4</th>\n",
       "      <td>http://www.iracing.com/tracks/gateway-motorspo...</td>\n",
       "      <td>55</td>\n",
       "      <td>15</td>\n",
       "      <td>0</td>\n",
       "      <td>2</td>\n",
       "      <td>2</td>\n",
       "      <td>0</td>\n",
       "      <td>0</td>\n",
       "      <td>0</td>\n",
       "      <td>0</td>\n",
       "      <td>...</td>\n",
       "      <td>0</td>\n",
       "      <td>1</td>\n",
       "      <td>0</td>\n",
       "      <td>224</td>\n",
       "      <td>8175</td>\n",
       "      <td>8725</td>\n",
       "      <td>0</td>\n",
       "      <td>0</td>\n",
       "      <td>6</td>\n",
       "      <td>legitimate</td>\n",
       "    </tr>\n",
       "  </tbody>\n",
       "</table>\n",
       "<p>5 rows × 89 columns</p>\n",
       "</div>"
      ],
      "text/plain": [
       "                                                 url  length_url  \\\n",
       "0              http://www.crestonwood.com/router.php          37   \n",
       "1  http://shadetreetechnology.com/V4/validation/a...          77   \n",
       "2  https://support-appleld.com.secureupdate.duila...         126   \n",
       "3                                 http://rgipt.ac.in          18   \n",
       "4  http://www.iracing.com/tracks/gateway-motorspo...          55   \n",
       "\n",
       "   length_hostname  ip  nb_dots  nb_hyphens  nb_at  nb_qm  nb_and  nb_or  ...  \\\n",
       "0               19   0        3           0      0      0       0      0  ...   \n",
       "1               23   1        1           0      0      0       0      0  ...   \n",
       "2               50   1        4           1      0      1       2      0  ...   \n",
       "3               11   0        2           0      0      0       0      0  ...   \n",
       "4               15   0        2           2      0      0       0      0  ...   \n",
       "\n",
       "   domain_in_title  domain_with_copyright  whois_registered_domain  \\\n",
       "0                0                      1                        0   \n",
       "1                1                      0                        0   \n",
       "2                1                      0                        0   \n",
       "3                1                      0                        0   \n",
       "4                0                      1                        0   \n",
       "\n",
       "   domain_registration_length  domain_age  web_traffic  dns_record  \\\n",
       "0                          45          -1            0           1   \n",
       "1                          77        5767            0           0   \n",
       "2                          14        4004      5828815           0   \n",
       "3                          62          -1       107721           0   \n",
       "4                         224        8175         8725           0   \n",
       "\n",
       "   google_index  page_rank      status  \n",
       "0             1          4  legitimate  \n",
       "1             1          2    phishing  \n",
       "2             1          0    phishing  \n",
       "3             0          3  legitimate  \n",
       "4             0          6  legitimate  \n",
       "\n",
       "[5 rows x 89 columns]"
      ]
     },
     "execution_count": 4,
     "metadata": {},
     "output_type": "execute_result"
    }
   ],
   "source": [
    "data = pd.read_csv(\"dataset_phishing.csv\")\n",
    "data.head()"
   ]
  },
  {
   "cell_type": "markdown",
   "metadata": {},
   "source": [
    "#### <b>1.2 Anàlisi Exploratori de Dades</b>"
   ]
  },
  {
   "cell_type": "markdown",
   "metadata": {},
   "source": [
    "A continuació, realitzem un anàlisi exploratori de les dades per comprendre millor el conjunt de dades. Això inclou una descripció estadística, la comprovació de valors nuls, la identificació dels tipus de dades, la informació sobre el nombre de files i columnes, i la cerca de files duplicades."
   ]
  },
  {
   "cell_type": "code",
   "execution_count": null,
   "metadata": {},
   "outputs": [],
   "source": [
    "# Obtenim una descripció completa del dataset.\n",
    "data.describe([x*0.1 for x in range(10)])"
   ]
  },
  {
   "cell_type": "code",
   "execution_count": null,
   "metadata": {},
   "outputs": [],
   "source": [
    "# Informació sobre el nombre de files i columnes.\n",
    "data.info()"
   ]
  },
  {
   "cell_type": "code",
   "execution_count": null,
   "metadata": {},
   "outputs": [],
   "source": [
    "# Nombre de valors nuls en cada columna.\n",
    "data.isnull().sum()"
   ]
  },
  {
   "cell_type": "code",
   "execution_count": null,
   "metadata": {},
   "outputs": [],
   "source": [
    "# Nombre de files duplicades.\n",
    "data.duplicated().sum()"
   ]
  },
  {
   "cell_type": "markdown",
   "metadata": {},
   "source": [
    "##### <b>1.2.1 Correlació de caracteristiques</b>"
   ]
  },
  {
   "cell_type": "markdown",
   "metadata": {},
   "source": [
    "Avaluarem la correlació de cada característica amb la variable objectiu per obtenir un sentit inicial de la seva importància. Les característiques que tenen una correlació molt baixa es poden considerar per a l'eliminació."
   ]
  },
  {
   "cell_type": "code",
   "execution_count": null,
   "metadata": {},
   "outputs": [],
   "source": [
    "# Convertim la columna 'status' a valors numèrics (1 per a 'phishing' i 0 per a 'legitimate')\n",
    "data['status_numeric'] = data['status'].apply(lambda x: 1 if x == 'phishing' else 0)\n",
    "\n",
    "# Calculem la correlació de cada característica amb la columna 'status_numeric'\n",
    "correlations = data.drop(columns=['url', 'status']).corrwith(data['status_numeric']).sort_values()\n",
    "\n",
    "# Visualitzem les correlacions\n",
    "plt.figure(figsize=(10, 20))\n",
    "sns.barplot(x=correlations, y=correlations.index)\n",
    "plt.title('Correlació de les característiques amb la variable objectiu')\n",
    "plt.xlabel('Correlació')\n",
    "plt.ylabel('Característiques')\n",
    "plt.show()"
   ]
  },
  {
   "cell_type": "markdown",
   "metadata": {},
   "source": [
    "A partir del diagrama de correlació, podem veure com cada característica es correlaciona amb la variable de destinació. \n",
    "\n",
    "Important:\n",
    "\n",
    "    · Una correlació propera a 1 indica una forta relació positiva.\n",
    "    · Una correlació propera a -1 indica una forta relació negativa.\n",
    "    · Una correlació propera a 0 indica poca o cap relació.\n",
    "\n",
    "Basant-nos en això, podríem considerar eliminar característiques que tenen una correlació molt propera a 0, ja que podrien no contribuir molt al poder predictiu d'un model. No obstant això, els mantindrem de moment i podríem revisar aquesta decisió després de l'avaluació del model."
   ]
  },
  {
   "cell_type": "markdown",
   "metadata": {},
   "source": [
    "#### <b>1.3 Manipulació de Dades</b>"
   ]
  },
  {
   "cell_type": "markdown",
   "metadata": {},
   "source": [
    "En aquesta secció, realitzem les següents etapes de pre-processament de dades:"
   ]
  },
  {
   "cell_type": "markdown",
   "metadata": {},
   "source": [
    "En primer lloc, haurem de guardar en una nova variable el conjunt de dades original per a poder fer modificacions sobre aquesta."
   ]
  },
  {
   "cell_type": "code",
   "execution_count": 5,
   "metadata": {},
   "outputs": [],
   "source": [
    "data_preprocessada = data"
   ]
  },
  {
   "cell_type": "markdown",
   "metadata": {},
   "source": [
    "Eliminarem la columna \"url\" ja que és única per a cada fila i no aportarà informació útil per al model de classificació. En aquest cas, estem simplificant el conjunt de dades eliminant una característica que no és rellevant per a la nostra anàlisi."
   ]
  },
  {
   "cell_type": "code",
   "execution_count": 6,
   "metadata": {},
   "outputs": [
    {
     "data": {
      "text/html": [
       "<div>\n",
       "<style scoped>\n",
       "    .dataframe tbody tr th:only-of-type {\n",
       "        vertical-align: middle;\n",
       "    }\n",
       "\n",
       "    .dataframe tbody tr th {\n",
       "        vertical-align: top;\n",
       "    }\n",
       "\n",
       "    .dataframe thead th {\n",
       "        text-align: right;\n",
       "    }\n",
       "</style>\n",
       "<table border=\"1\" class=\"dataframe\">\n",
       "  <thead>\n",
       "    <tr style=\"text-align: right;\">\n",
       "      <th></th>\n",
       "      <th>length_url</th>\n",
       "      <th>length_hostname</th>\n",
       "      <th>ip</th>\n",
       "      <th>nb_dots</th>\n",
       "      <th>nb_hyphens</th>\n",
       "      <th>nb_at</th>\n",
       "      <th>nb_qm</th>\n",
       "      <th>nb_and</th>\n",
       "      <th>nb_or</th>\n",
       "      <th>nb_eq</th>\n",
       "      <th>...</th>\n",
       "      <th>domain_in_title</th>\n",
       "      <th>domain_with_copyright</th>\n",
       "      <th>whois_registered_domain</th>\n",
       "      <th>domain_registration_length</th>\n",
       "      <th>domain_age</th>\n",
       "      <th>web_traffic</th>\n",
       "      <th>dns_record</th>\n",
       "      <th>google_index</th>\n",
       "      <th>page_rank</th>\n",
       "      <th>status</th>\n",
       "    </tr>\n",
       "  </thead>\n",
       "  <tbody>\n",
       "    <tr>\n",
       "      <th>0</th>\n",
       "      <td>37</td>\n",
       "      <td>19</td>\n",
       "      <td>0</td>\n",
       "      <td>3</td>\n",
       "      <td>0</td>\n",
       "      <td>0</td>\n",
       "      <td>0</td>\n",
       "      <td>0</td>\n",
       "      <td>0</td>\n",
       "      <td>0</td>\n",
       "      <td>...</td>\n",
       "      <td>0</td>\n",
       "      <td>1</td>\n",
       "      <td>0</td>\n",
       "      <td>45</td>\n",
       "      <td>-1</td>\n",
       "      <td>0</td>\n",
       "      <td>1</td>\n",
       "      <td>1</td>\n",
       "      <td>4</td>\n",
       "      <td>legitimate</td>\n",
       "    </tr>\n",
       "    <tr>\n",
       "      <th>1</th>\n",
       "      <td>77</td>\n",
       "      <td>23</td>\n",
       "      <td>1</td>\n",
       "      <td>1</td>\n",
       "      <td>0</td>\n",
       "      <td>0</td>\n",
       "      <td>0</td>\n",
       "      <td>0</td>\n",
       "      <td>0</td>\n",
       "      <td>0</td>\n",
       "      <td>...</td>\n",
       "      <td>1</td>\n",
       "      <td>0</td>\n",
       "      <td>0</td>\n",
       "      <td>77</td>\n",
       "      <td>5767</td>\n",
       "      <td>0</td>\n",
       "      <td>0</td>\n",
       "      <td>1</td>\n",
       "      <td>2</td>\n",
       "      <td>phishing</td>\n",
       "    </tr>\n",
       "    <tr>\n",
       "      <th>2</th>\n",
       "      <td>126</td>\n",
       "      <td>50</td>\n",
       "      <td>1</td>\n",
       "      <td>4</td>\n",
       "      <td>1</td>\n",
       "      <td>0</td>\n",
       "      <td>1</td>\n",
       "      <td>2</td>\n",
       "      <td>0</td>\n",
       "      <td>3</td>\n",
       "      <td>...</td>\n",
       "      <td>1</td>\n",
       "      <td>0</td>\n",
       "      <td>0</td>\n",
       "      <td>14</td>\n",
       "      <td>4004</td>\n",
       "      <td>5828815</td>\n",
       "      <td>0</td>\n",
       "      <td>1</td>\n",
       "      <td>0</td>\n",
       "      <td>phishing</td>\n",
       "    </tr>\n",
       "    <tr>\n",
       "      <th>3</th>\n",
       "      <td>18</td>\n",
       "      <td>11</td>\n",
       "      <td>0</td>\n",
       "      <td>2</td>\n",
       "      <td>0</td>\n",
       "      <td>0</td>\n",
       "      <td>0</td>\n",
       "      <td>0</td>\n",
       "      <td>0</td>\n",
       "      <td>0</td>\n",
       "      <td>...</td>\n",
       "      <td>1</td>\n",
       "      <td>0</td>\n",
       "      <td>0</td>\n",
       "      <td>62</td>\n",
       "      <td>-1</td>\n",
       "      <td>107721</td>\n",
       "      <td>0</td>\n",
       "      <td>0</td>\n",
       "      <td>3</td>\n",
       "      <td>legitimate</td>\n",
       "    </tr>\n",
       "    <tr>\n",
       "      <th>4</th>\n",
       "      <td>55</td>\n",
       "      <td>15</td>\n",
       "      <td>0</td>\n",
       "      <td>2</td>\n",
       "      <td>2</td>\n",
       "      <td>0</td>\n",
       "      <td>0</td>\n",
       "      <td>0</td>\n",
       "      <td>0</td>\n",
       "      <td>0</td>\n",
       "      <td>...</td>\n",
       "      <td>0</td>\n",
       "      <td>1</td>\n",
       "      <td>0</td>\n",
       "      <td>224</td>\n",
       "      <td>8175</td>\n",
       "      <td>8725</td>\n",
       "      <td>0</td>\n",
       "      <td>0</td>\n",
       "      <td>6</td>\n",
       "      <td>legitimate</td>\n",
       "    </tr>\n",
       "  </tbody>\n",
       "</table>\n",
       "<p>5 rows × 88 columns</p>\n",
       "</div>"
      ],
      "text/plain": [
       "   length_url  length_hostname  ip  nb_dots  nb_hyphens  nb_at  nb_qm  nb_and  \\\n",
       "0          37               19   0        3           0      0      0       0   \n",
       "1          77               23   1        1           0      0      0       0   \n",
       "2         126               50   1        4           1      0      1       2   \n",
       "3          18               11   0        2           0      0      0       0   \n",
       "4          55               15   0        2           2      0      0       0   \n",
       "\n",
       "   nb_or  nb_eq  ...  domain_in_title  domain_with_copyright  \\\n",
       "0      0      0  ...                0                      1   \n",
       "1      0      0  ...                1                      0   \n",
       "2      0      3  ...                1                      0   \n",
       "3      0      0  ...                1                      0   \n",
       "4      0      0  ...                0                      1   \n",
       "\n",
       "   whois_registered_domain  domain_registration_length  domain_age  \\\n",
       "0                        0                          45          -1   \n",
       "1                        0                          77        5767   \n",
       "2                        0                          14        4004   \n",
       "3                        0                          62          -1   \n",
       "4                        0                         224        8175   \n",
       "\n",
       "   web_traffic  dns_record  google_index  page_rank      status  \n",
       "0            0           1             1          4  legitimate  \n",
       "1            0           0             1          2    phishing  \n",
       "2      5828815           0             1          0    phishing  \n",
       "3       107721           0             0          3  legitimate  \n",
       "4         8725           0             0          6  legitimate  \n",
       "\n",
       "[5 rows x 88 columns]"
      ]
     },
     "execution_count": 6,
     "metadata": {},
     "output_type": "execute_result"
    }
   ],
   "source": [
    "data_preprocessada = data_preprocessada.drop(columns=['url'])\n",
    "data_preprocessada.head()"
   ]
  },
  {
   "cell_type": "markdown",
   "metadata": {},
   "source": [
    "##### <b>1.3.1 Tractament de Valors Nuls</b>"
   ]
  },
  {
   "cell_type": "markdown",
   "metadata": {},
   "source": [
    "· Per a les <b>columnes numèriques</b>, substituïm els valors nuls per la mitjana de la columna. <br>\n",
    "· Per a les <b>columnes categòriques</b>, substituïm els valors nuls pel valor més freqüent de la columna."
   ]
  },
  {
   "cell_type": "code",
   "execution_count": 7,
   "metadata": {},
   "outputs": [],
   "source": [
    "# Tractament de valors nuls\n",
    "for column in data_preprocessada.select_dtypes(include=['int', 'float']).columns:\n",
    "    data_preprocessada[column].fillna(data_preprocessada[column].mean(), inplace=True)\n",
    "\n",
    "for column in data_preprocessada.select_dtypes(include=['object']).columns:\n",
    "    data_preprocessada[column].fillna(data_preprocessada[column].mode()[0], inplace=True)"
   ]
  },
  {
   "cell_type": "markdown",
   "metadata": {},
   "source": [
    "##### <b>1.3.2 Eliminar columnes Redundants</b>"
   ]
  },
  {
   "cell_type": "markdown",
   "metadata": {},
   "source": [
    "Simplificarem el conjunt de dades. \n",
    "Analitzem si hi ha alguna columna que pugui ser redundant o no útil per a la nostra anàlisi. \n",
    "Revisem les estadístiques descriptives de les columnes per veure si alguna d'elles presenta variància zero o valors constants, ja que aquestes columnes no aportarien informació útil per a la majoria d'algorismes."
   ]
  },
  {
   "cell_type": "code",
   "execution_count": 8,
   "metadata": {},
   "outputs": [
    {
     "data": {
      "text/plain": [
       "Index(['nb_or', 'ratio_nullHyperlinks', 'ratio_intRedirection',\n",
       "       'ratio_intErrors', 'submit_email', 'sfh'],\n",
       "      dtype='object')"
      ]
     },
     "execution_count": 8,
     "metadata": {},
     "output_type": "execute_result"
    }
   ],
   "source": [
    "# Obtenim les estadistiques de les columnes numeriques.\n",
    "desc_stats = data_preprocessada.describe()\n",
    "\n",
    "# Identifiquem les columnes amb 0 variança (desviació estàndard igual a zero)\n",
    "zero_variance_columns = desc_stats.columns[desc_stats.loc[\"std\"] == 0]\n",
    "\n",
    "zero_variance_columns"
   ]
  },
  {
   "cell_type": "markdown",
   "metadata": {},
   "source": [
    "Les columnes següents presenten variància zero, la qual cosa significa que tenen el mateix valor en totes les files:\n",
    "\n",
    "    · nb_or\n",
    "    · ratio_nullHyperlinks\n",
    "    · ratio_intRedirection\n",
    "    · ratio_intErrors\n",
    "    · submit_email\n",
    "    · sfh\n",
    "    \n",
    "Aquestes columnes poden ser considerades com a redundants ja que no aporten informació variable al nostre model. Per tant, es recomana eliminar-les del conjunt de dades.\n",
    "\n",
    "A continuació, procedirem a eliminar aquestes columnes del conjunt de dades.​"
   ]
  },
  {
   "cell_type": "code",
   "execution_count": 9,
   "metadata": {},
   "outputs": [
    {
     "data": {
      "text/html": [
       "<div>\n",
       "<style scoped>\n",
       "    .dataframe tbody tr th:only-of-type {\n",
       "        vertical-align: middle;\n",
       "    }\n",
       "\n",
       "    .dataframe tbody tr th {\n",
       "        vertical-align: top;\n",
       "    }\n",
       "\n",
       "    .dataframe thead th {\n",
       "        text-align: right;\n",
       "    }\n",
       "</style>\n",
       "<table border=\"1\" class=\"dataframe\">\n",
       "  <thead>\n",
       "    <tr style=\"text-align: right;\">\n",
       "      <th></th>\n",
       "      <th>length_url</th>\n",
       "      <th>length_hostname</th>\n",
       "      <th>ip</th>\n",
       "      <th>nb_dots</th>\n",
       "      <th>nb_hyphens</th>\n",
       "      <th>nb_at</th>\n",
       "      <th>nb_qm</th>\n",
       "      <th>nb_and</th>\n",
       "      <th>nb_eq</th>\n",
       "      <th>nb_underscore</th>\n",
       "      <th>...</th>\n",
       "      <th>domain_in_title</th>\n",
       "      <th>domain_with_copyright</th>\n",
       "      <th>whois_registered_domain</th>\n",
       "      <th>domain_registration_length</th>\n",
       "      <th>domain_age</th>\n",
       "      <th>web_traffic</th>\n",
       "      <th>dns_record</th>\n",
       "      <th>google_index</th>\n",
       "      <th>page_rank</th>\n",
       "      <th>status</th>\n",
       "    </tr>\n",
       "  </thead>\n",
       "  <tbody>\n",
       "    <tr>\n",
       "      <th>0</th>\n",
       "      <td>37</td>\n",
       "      <td>19</td>\n",
       "      <td>0</td>\n",
       "      <td>3</td>\n",
       "      <td>0</td>\n",
       "      <td>0</td>\n",
       "      <td>0</td>\n",
       "      <td>0</td>\n",
       "      <td>0</td>\n",
       "      <td>0</td>\n",
       "      <td>...</td>\n",
       "      <td>0</td>\n",
       "      <td>1</td>\n",
       "      <td>0</td>\n",
       "      <td>45</td>\n",
       "      <td>-1</td>\n",
       "      <td>0</td>\n",
       "      <td>1</td>\n",
       "      <td>1</td>\n",
       "      <td>4</td>\n",
       "      <td>legitimate</td>\n",
       "    </tr>\n",
       "    <tr>\n",
       "      <th>1</th>\n",
       "      <td>77</td>\n",
       "      <td>23</td>\n",
       "      <td>1</td>\n",
       "      <td>1</td>\n",
       "      <td>0</td>\n",
       "      <td>0</td>\n",
       "      <td>0</td>\n",
       "      <td>0</td>\n",
       "      <td>0</td>\n",
       "      <td>0</td>\n",
       "      <td>...</td>\n",
       "      <td>1</td>\n",
       "      <td>0</td>\n",
       "      <td>0</td>\n",
       "      <td>77</td>\n",
       "      <td>5767</td>\n",
       "      <td>0</td>\n",
       "      <td>0</td>\n",
       "      <td>1</td>\n",
       "      <td>2</td>\n",
       "      <td>phishing</td>\n",
       "    </tr>\n",
       "    <tr>\n",
       "      <th>2</th>\n",
       "      <td>126</td>\n",
       "      <td>50</td>\n",
       "      <td>1</td>\n",
       "      <td>4</td>\n",
       "      <td>1</td>\n",
       "      <td>0</td>\n",
       "      <td>1</td>\n",
       "      <td>2</td>\n",
       "      <td>3</td>\n",
       "      <td>2</td>\n",
       "      <td>...</td>\n",
       "      <td>1</td>\n",
       "      <td>0</td>\n",
       "      <td>0</td>\n",
       "      <td>14</td>\n",
       "      <td>4004</td>\n",
       "      <td>5828815</td>\n",
       "      <td>0</td>\n",
       "      <td>1</td>\n",
       "      <td>0</td>\n",
       "      <td>phishing</td>\n",
       "    </tr>\n",
       "    <tr>\n",
       "      <th>3</th>\n",
       "      <td>18</td>\n",
       "      <td>11</td>\n",
       "      <td>0</td>\n",
       "      <td>2</td>\n",
       "      <td>0</td>\n",
       "      <td>0</td>\n",
       "      <td>0</td>\n",
       "      <td>0</td>\n",
       "      <td>0</td>\n",
       "      <td>0</td>\n",
       "      <td>...</td>\n",
       "      <td>1</td>\n",
       "      <td>0</td>\n",
       "      <td>0</td>\n",
       "      <td>62</td>\n",
       "      <td>-1</td>\n",
       "      <td>107721</td>\n",
       "      <td>0</td>\n",
       "      <td>0</td>\n",
       "      <td>3</td>\n",
       "      <td>legitimate</td>\n",
       "    </tr>\n",
       "    <tr>\n",
       "      <th>4</th>\n",
       "      <td>55</td>\n",
       "      <td>15</td>\n",
       "      <td>0</td>\n",
       "      <td>2</td>\n",
       "      <td>2</td>\n",
       "      <td>0</td>\n",
       "      <td>0</td>\n",
       "      <td>0</td>\n",
       "      <td>0</td>\n",
       "      <td>0</td>\n",
       "      <td>...</td>\n",
       "      <td>0</td>\n",
       "      <td>1</td>\n",
       "      <td>0</td>\n",
       "      <td>224</td>\n",
       "      <td>8175</td>\n",
       "      <td>8725</td>\n",
       "      <td>0</td>\n",
       "      <td>0</td>\n",
       "      <td>6</td>\n",
       "      <td>legitimate</td>\n",
       "    </tr>\n",
       "  </tbody>\n",
       "</table>\n",
       "<p>5 rows × 82 columns</p>\n",
       "</div>"
      ],
      "text/plain": [
       "   length_url  length_hostname  ip  nb_dots  nb_hyphens  nb_at  nb_qm  nb_and  \\\n",
       "0          37               19   0        3           0      0      0       0   \n",
       "1          77               23   1        1           0      0      0       0   \n",
       "2         126               50   1        4           1      0      1       2   \n",
       "3          18               11   0        2           0      0      0       0   \n",
       "4          55               15   0        2           2      0      0       0   \n",
       "\n",
       "   nb_eq  nb_underscore  ...  domain_in_title  domain_with_copyright  \\\n",
       "0      0              0  ...                0                      1   \n",
       "1      0              0  ...                1                      0   \n",
       "2      3              2  ...                1                      0   \n",
       "3      0              0  ...                1                      0   \n",
       "4      0              0  ...                0                      1   \n",
       "\n",
       "   whois_registered_domain  domain_registration_length  domain_age  \\\n",
       "0                        0                          45          -1   \n",
       "1                        0                          77        5767   \n",
       "2                        0                          14        4004   \n",
       "3                        0                          62          -1   \n",
       "4                        0                         224        8175   \n",
       "\n",
       "   web_traffic  dns_record  google_index  page_rank      status  \n",
       "0            0           1             1          4  legitimate  \n",
       "1            0           0             1          2    phishing  \n",
       "2      5828815           0             1          0    phishing  \n",
       "3       107721           0             0          3  legitimate  \n",
       "4         8725           0             0          6  legitimate  \n",
       "\n",
       "[5 rows x 82 columns]"
      ]
     },
     "execution_count": 9,
     "metadata": {},
     "output_type": "execute_result"
    }
   ],
   "source": [
    "# Remove the zero variance columns from the dataset\n",
    "data_preprocessada = data_preprocessada.drop(columns=zero_variance_columns)\n",
    "\n",
    "# Display the first few rows of the cleaned dataset\n",
    "data_preprocessada.head()"
   ]
  },
  {
   "cell_type": "markdown",
   "metadata": {},
   "source": [
    "##### <b>1.3.3 Conversió de Dades Categòriques a Dades Numèriques</b>"
   ]
  },
  {
   "cell_type": "markdown",
   "metadata": {},
   "source": [
    "· Utilitzem <b>LabelEncoder</b> per transformar les columnes categòriques en dades numèriques."
   ]
  },
  {
   "cell_type": "code",
   "execution_count": 10,
   "metadata": {},
   "outputs": [],
   "source": [
    "# Conversió de dades categòriques a numèriques\n",
    "le = LabelEncoder()\n",
    "for column in data_preprocessada.columns:\n",
    "    if data_preprocessada[column].dtype == type(object):\n",
    "        data_preprocessada[column] = le.fit_transform(data_preprocessada[column])"
   ]
  },
  {
   "cell_type": "markdown",
   "metadata": {},
   "source": [
    "##### <b>1.3.4 Normalització de Dades Numèriques</b>"
   ]
  },
  {
   "cell_type": "markdown",
   "metadata": {},
   "source": [
    "Normalitzem les dades numèriques en un rang de 0 a 1."
   ]
  },
  {
   "cell_type": "code",
   "execution_count": 11,
   "metadata": {},
   "outputs": [],
   "source": [
    "# Normalització de dades numèriques\n",
    "for column in data_preprocessada.columns:\n",
    "    if data_preprocessada[column].dtype in ['int16', 'int32', 'int64', 'float16', 'float32', 'float64']:\n",
    "        data_preprocessada[column] = (data_preprocessada[column] - data_preprocessada[column].min()) / (data_preprocessada[column].max() - data_preprocessada[column].min())"
   ]
  },
  {
   "cell_type": "markdown",
   "metadata": {},
   "source": [
    "Ara que les dades han estat pre-processades, estan llestes per ser utilitzades per a la construcció i avaluació de models de detecció de phishing."
   ]
  },
  {
   "cell_type": "code",
   "execution_count": 10,
   "metadata": {},
   "outputs": [
    {
     "data": {
      "text/html": [
       "<div>\n",
       "<style scoped>\n",
       "    .dataframe tbody tr th:only-of-type {\n",
       "        vertical-align: middle;\n",
       "    }\n",
       "\n",
       "    .dataframe tbody tr th {\n",
       "        vertical-align: top;\n",
       "    }\n",
       "\n",
       "    .dataframe thead th {\n",
       "        text-align: right;\n",
       "    }\n",
       "</style>\n",
       "<table border=\"1\" class=\"dataframe\">\n",
       "  <thead>\n",
       "    <tr style=\"text-align: right;\">\n",
       "      <th></th>\n",
       "      <th>length_url</th>\n",
       "      <th>length_hostname</th>\n",
       "      <th>ip</th>\n",
       "      <th>nb_dots</th>\n",
       "      <th>nb_hyphens</th>\n",
       "      <th>nb_at</th>\n",
       "      <th>nb_qm</th>\n",
       "      <th>nb_and</th>\n",
       "      <th>nb_eq</th>\n",
       "      <th>nb_underscore</th>\n",
       "      <th>...</th>\n",
       "      <th>domain_in_title</th>\n",
       "      <th>domain_with_copyright</th>\n",
       "      <th>whois_registered_domain</th>\n",
       "      <th>domain_registration_length</th>\n",
       "      <th>domain_age</th>\n",
       "      <th>web_traffic</th>\n",
       "      <th>dns_record</th>\n",
       "      <th>google_index</th>\n",
       "      <th>page_rank</th>\n",
       "      <th>status</th>\n",
       "    </tr>\n",
       "  </thead>\n",
       "  <tbody>\n",
       "    <tr>\n",
       "      <th>0</th>\n",
       "      <td>0.015347</td>\n",
       "      <td>0.071429</td>\n",
       "      <td>0.0</td>\n",
       "      <td>0.086957</td>\n",
       "      <td>0.000000</td>\n",
       "      <td>0.0</td>\n",
       "      <td>0.000000</td>\n",
       "      <td>0.000000</td>\n",
       "      <td>0.000000</td>\n",
       "      <td>0.000000</td>\n",
       "      <td>...</td>\n",
       "      <td>0.0</td>\n",
       "      <td>1.0</td>\n",
       "      <td>0.0</td>\n",
       "      <td>0.001542</td>\n",
       "      <td>0.000854</td>\n",
       "      <td>0.000000</td>\n",
       "      <td>1.0</td>\n",
       "      <td>1.0</td>\n",
       "      <td>0.4</td>\n",
       "      <td>0.0</td>\n",
       "    </tr>\n",
       "    <tr>\n",
       "      <th>1</th>\n",
       "      <td>0.039902</td>\n",
       "      <td>0.090476</td>\n",
       "      <td>1.0</td>\n",
       "      <td>0.000000</td>\n",
       "      <td>0.000000</td>\n",
       "      <td>0.0</td>\n",
       "      <td>0.000000</td>\n",
       "      <td>0.000000</td>\n",
       "      <td>0.000000</td>\n",
       "      <td>0.000000</td>\n",
       "      <td>...</td>\n",
       "      <td>1.0</td>\n",
       "      <td>0.0</td>\n",
       "      <td>0.0</td>\n",
       "      <td>0.002615</td>\n",
       "      <td>0.448471</td>\n",
       "      <td>0.000000</td>\n",
       "      <td>0.0</td>\n",
       "      <td>1.0</td>\n",
       "      <td>0.2</td>\n",
       "      <td>1.0</td>\n",
       "    </tr>\n",
       "    <tr>\n",
       "      <th>2</th>\n",
       "      <td>0.069982</td>\n",
       "      <td>0.219048</td>\n",
       "      <td>1.0</td>\n",
       "      <td>0.130435</td>\n",
       "      <td>0.023256</td>\n",
       "      <td>0.0</td>\n",
       "      <td>0.333333</td>\n",
       "      <td>0.105263</td>\n",
       "      <td>0.157895</td>\n",
       "      <td>0.111111</td>\n",
       "      <td>...</td>\n",
       "      <td>1.0</td>\n",
       "      <td>0.0</td>\n",
       "      <td>0.0</td>\n",
       "      <td>0.000503</td>\n",
       "      <td>0.311656</td>\n",
       "      <td>0.541310</td>\n",
       "      <td>0.0</td>\n",
       "      <td>1.0</td>\n",
       "      <td>0.0</td>\n",
       "      <td>1.0</td>\n",
       "    </tr>\n",
       "    <tr>\n",
       "      <th>3</th>\n",
       "      <td>0.003683</td>\n",
       "      <td>0.033333</td>\n",
       "      <td>0.0</td>\n",
       "      <td>0.043478</td>\n",
       "      <td>0.000000</td>\n",
       "      <td>0.0</td>\n",
       "      <td>0.000000</td>\n",
       "      <td>0.000000</td>\n",
       "      <td>0.000000</td>\n",
       "      <td>0.000000</td>\n",
       "      <td>...</td>\n",
       "      <td>1.0</td>\n",
       "      <td>0.0</td>\n",
       "      <td>0.0</td>\n",
       "      <td>0.002112</td>\n",
       "      <td>0.000854</td>\n",
       "      <td>0.010004</td>\n",
       "      <td>0.0</td>\n",
       "      <td>0.0</td>\n",
       "      <td>0.3</td>\n",
       "      <td>0.0</td>\n",
       "    </tr>\n",
       "    <tr>\n",
       "      <th>4</th>\n",
       "      <td>0.026397</td>\n",
       "      <td>0.052381</td>\n",
       "      <td>0.0</td>\n",
       "      <td>0.043478</td>\n",
       "      <td>0.046512</td>\n",
       "      <td>0.0</td>\n",
       "      <td>0.000000</td>\n",
       "      <td>0.000000</td>\n",
       "      <td>0.000000</td>\n",
       "      <td>0.000000</td>\n",
       "      <td>...</td>\n",
       "      <td>0.0</td>\n",
       "      <td>1.0</td>\n",
       "      <td>0.0</td>\n",
       "      <td>0.007543</td>\n",
       "      <td>0.635341</td>\n",
       "      <td>0.000810</td>\n",
       "      <td>0.0</td>\n",
       "      <td>0.0</td>\n",
       "      <td>0.6</td>\n",
       "      <td>0.0</td>\n",
       "    </tr>\n",
       "  </tbody>\n",
       "</table>\n",
       "<p>5 rows × 82 columns</p>\n",
       "</div>"
      ],
      "text/plain": [
       "   length_url  length_hostname   ip   nb_dots  nb_hyphens  nb_at     nb_qm  \\\n",
       "0    0.015347         0.071429  0.0  0.086957    0.000000    0.0  0.000000   \n",
       "1    0.039902         0.090476  1.0  0.000000    0.000000    0.0  0.000000   \n",
       "2    0.069982         0.219048  1.0  0.130435    0.023256    0.0  0.333333   \n",
       "3    0.003683         0.033333  0.0  0.043478    0.000000    0.0  0.000000   \n",
       "4    0.026397         0.052381  0.0  0.043478    0.046512    0.0  0.000000   \n",
       "\n",
       "     nb_and     nb_eq  nb_underscore  ...  domain_in_title  \\\n",
       "0  0.000000  0.000000       0.000000  ...              0.0   \n",
       "1  0.000000  0.000000       0.000000  ...              1.0   \n",
       "2  0.105263  0.157895       0.111111  ...              1.0   \n",
       "3  0.000000  0.000000       0.000000  ...              1.0   \n",
       "4  0.000000  0.000000       0.000000  ...              0.0   \n",
       "\n",
       "   domain_with_copyright  whois_registered_domain  domain_registration_length  \\\n",
       "0                    1.0                      0.0                    0.001542   \n",
       "1                    0.0                      0.0                    0.002615   \n",
       "2                    0.0                      0.0                    0.000503   \n",
       "3                    0.0                      0.0                    0.002112   \n",
       "4                    1.0                      0.0                    0.007543   \n",
       "\n",
       "   domain_age  web_traffic  dns_record  google_index  page_rank  status  \n",
       "0    0.000854     0.000000         1.0           1.0        0.4     0.0  \n",
       "1    0.448471     0.000000         0.0           1.0        0.2     1.0  \n",
       "2    0.311656     0.541310         0.0           1.0        0.0     1.0  \n",
       "3    0.000854     0.010004         0.0           0.0        0.3     0.0  \n",
       "4    0.635341     0.000810         0.0           0.0        0.6     0.0  \n",
       "\n",
       "[5 rows x 82 columns]"
      ]
     },
     "execution_count": 10,
     "metadata": {},
     "output_type": "execute_result"
    }
   ],
   "source": [
    "# Dades pre-processades\n",
    "data_preprocessada.head()"
   ]
  },
  {
   "cell_type": "markdown",
   "metadata": {},
   "source": [
    "#### <b>1.4 Histogrames i Boxplot</b>"
   ]
  },
  {
   "cell_type": "markdown",
   "metadata": {},
   "source": [
    "Crearem gràfics de caixes (boxplots) i histogrames per visualitzar la distribució de les característiques numèriques en el conjunt de dades pre-processades i originals. Aquests gràfics ens ajudaran a entendre millor com es distribueixen les dades i a identificar valors extrems (outliers)."
   ]
  },
  {
   "cell_type": "markdown",
   "metadata": {},
   "source": [
    "##### <b>1.4.1 Gràfics de Caixes (Boxplots)</b>"
   ]
  },
  {
   "cell_type": "markdown",
   "metadata": {},
   "source": [
    "Els gràfics de caixes són útils per representar visualment la distribució i la variabilitat de les dades numèriques. Ens mostren la mediana, els quartils i els valors extrems"
   ]
  },
  {
   "cell_type": "markdown",
   "metadata": {},
   "source": [
    "<b>· Dades originals</b>"
   ]
  },
  {
   "cell_type": "code",
   "execution_count": null,
   "metadata": {},
   "outputs": [],
   "source": [
    "# Creació de gràfics de caixes més grans per a característiques numèriques\n",
    "plt.figure(figsize=(36, 30)) \n",
    "sns.set(style=\"whitegrid\")\n",
    "\n",
    "# Seleccionem les característiques numèriques per als quals volem generar els boxplots\n",
    "features_for_boxplot = data.select_dtypes(include=['int', 'float'])\n",
    "\n",
    "# Dibuixem els gràfics de caixes\n",
    "sns.boxplot(data=features_for_boxplot, orient=\"h\", palette=\"Set2\")\n",
    "plt.title(\"Boxplots de Característiques Numèriques\")\n",
    "plt.xlabel(\"Valor\")\n",
    "plt.show()"
   ]
  },
  {
   "cell_type": "markdown",
   "metadata": {},
   "source": [
    "<b>· Dades pre-processades</b>"
   ]
  },
  {
   "cell_type": "code",
   "execution_count": null,
   "metadata": {},
   "outputs": [],
   "source": [
    "# Creació de gràfics de caixes més grans per a característiques numèriques\n",
    "plt.figure(figsize=(36, 30)) \n",
    "sns.set(style=\"whitegrid\")\n",
    "\n",
    "# Seleccionem les característiques numèriques per als quals volem generar els boxplots\n",
    "features_for_boxplot = data_preprocessada.select_dtypes(include=['int', 'float'])\n",
    "\n",
    "# Dibuixem els gràfics de caixes\n",
    "sns.boxplot(data=features_for_boxplot, orient=\"h\", palette=\"Set2\")\n",
    "plt.title(\"Boxplots de Característiques Numèriques\")\n",
    "plt.xlabel(\"Valor\")\n",
    "plt.show()"
   ]
  },
  {
   "cell_type": "markdown",
   "metadata": {},
   "source": [
    "##### <b>1.4.1 Histogrames</b>"
   ]
  },
  {
   "cell_type": "markdown",
   "metadata": {},
   "source": [
    "Els histogrames mostren la distribució de les dades numèriques i ens permeten veure la forma de la distribució."
   ]
  },
  {
   "cell_type": "markdown",
   "metadata": {},
   "source": [
    "<b>· Dades originals</b>"
   ]
  },
  {
   "cell_type": "code",
   "execution_count": null,
   "metadata": {},
   "outputs": [],
   "source": [
    "# Creació d'histogrames més grans per a característiques numèriques\n",
    "plt.figure(figsize=(56, 30))  \n",
    "sns.set(style=\"whitegrid\")\n",
    "\n",
    "# Seleccionem les característiques numèriques per als quals volem generar histogrames\n",
    "features_for_histogram = data.select_dtypes(include=['int', 'float'])\n",
    "\n",
    "# Dibuixem els histogrames\n",
    "for feature in features_for_histogram.columns:\n",
    "    sns.histplot(data[feature], kde=True, bins=20, label=feature)\n",
    "\n",
    "plt.title(\"Histogrames de Característiques Numèriques\")\n",
    "plt.xlabel(\"Valor\")\n",
    "plt.legend()\n",
    "plt.show()"
   ]
  },
  {
   "cell_type": "markdown",
   "metadata": {},
   "source": [
    "<b>· Dades pre-processades</b>"
   ]
  },
  {
   "cell_type": "code",
   "execution_count": null,
   "metadata": {},
   "outputs": [],
   "source": [
    "# Creació d'histogrames més grans per a característiques numèriques\n",
    "plt.figure(figsize=(56, 30))  \n",
    "sns.set(style=\"whitegrid\")\n",
    "\n",
    "# Seleccionem les característiques numèriques per als quals volem generar histogrames\n",
    "features_for_histogram = data_preprocessada.select_dtypes(include=['int', 'float'])\n",
    "\n",
    "# Dibuixem els histogrames\n",
    "for feature in features_for_histogram.columns:\n",
    "    sns.histplot(data_preprocessada[feature], kde=True, bins=20, label=feature)\n",
    "\n",
    "plt.title(\"Histogrames de Característiques Numèriques\")\n",
    "plt.xlabel(\"Valor\")\n",
    "plt.legend()\n",
    "plt.show()"
   ]
  },
  {
   "cell_type": "markdown",
   "metadata": {},
   "source": [
    "#### <b>1.5 PCA (Principal Component Analysis)</b>"
   ]
  },
  {
   "cell_type": "code",
   "execution_count": 13,
   "metadata": {},
   "outputs": [
    {
     "data": {
      "image/png": "[encoded data removed]",
      "text/plain": [
       "<Figure size 1200x600 with 1 Axes>"
      ]
     },
     "metadata": {},
     "output_type": "display_data"
    }
   ],
   "source": [
    "from sklearn.decomposition import PCA\n",
    "import matplotlib.pyplot as plt\n",
    "\n",
    "# Apliquem PCA\n",
    "pca = PCA()\n",
    "components = pca.fit_transform(data_preprocessada)\n",
    "\n",
    "# Visualitzem la variància explicada per cada component principal\n",
    "plt.figure(figsize=(12, 6))\n",
    "plt.bar(range(1, len(pca.explained_variance_ratio_) + 1), pca.explained_variance_ratio_)\n",
    "plt.xlabel('Component principal')\n",
    "plt.ylabel('Variància explicada')\n",
    "plt.title('Variància explicada per cada component principal')\n",
    "plt.show()\n"
   ]
  },
  {
   "cell_type": "markdown",
   "metadata": {},
   "source": [
    "A partir de la visualització, podem fer les següents observacions:\n",
    "\n",
    "    1. Declivi ràpid inicial: Les primeres components principals expliquen una quantitat significativa de la variabilitat de les dades, amb un declivi ràpid en la variància explicada a mesura que augmenta el número de components.\n",
    "    \n",
    "    2. Plateau després d'unes poques components: Després d'un cert número de components (aproximadament 10-15), la variància explicada per cada component addicional disminueix significativament, arribant a un plateau. Això indica que la major part de la informació està continguda en les primeres components.\n",
    "\n",
    "Aquestes observacions suggerixen que podríem reduir la dimensió del conjunt de dades utilitzant només les primeres components principals sense perdre massa informació. Aquesta reducció podria ser útil per visualitzar les dades o per accelerar l'entrenament de models de machine learning.\n",
    "\n",
    "A continuació, podem calcular la variància acumulada explicada per les components per determinar quantes d'elles s'haurien d'utilitzar per capturar una determinada quantitat de la variabilitat total (per exemple, el 95%).​"
   ]
  },
  {
   "cell_type": "code",
   "execution_count": 14,
   "metadata": {},
   "outputs": [
    {
     "data": {
      "image/png": "[encoded data removed]",
      "text/plain": [
       "<Figure size 1200x600 with 1 Axes>"
      ]
     },
     "metadata": {},
     "output_type": "display_data"
    },
    {
     "data": {
      "text/plain": [
       "29"
      ]
     },
     "execution_count": 14,
     "metadata": {},
     "output_type": "execute_result"
    }
   ],
   "source": [
    "# Calculem la variància acumulada explicada\n",
    "variancia_acumulada = pca.explained_variance_ratio_.cumsum()\n",
    "\n",
    "# Visualitzem la variància acumulada\n",
    "plt.figure(figsize=(12, 6))\n",
    "plt.plot(range(1, len(variancia_acumulada) + 1), variancia_acumulada, marker='o', linestyle='--')\n",
    "plt.xlabel('Nombre de components')\n",
    "plt.ylabel('Variància acumulada explicada')\n",
    "plt.title('Variància acumulada explicada per nombre de components')\n",
    "plt.show()\n",
    "\n",
    "# Determinem el nombre de components necessaris per explicar almenys el 95% de la variància\n",
    "components_95_variancia = sum(variancia_acumulada < 0.95) + 1\n",
    "\n",
    "components_95_variancia"
   ]
  },
  {
   "cell_type": "markdown",
   "metadata": {},
   "source": [
    "La visualització mostra la variància acumulada explicada a mesura que augmentem el nombre de components principals. A partir d'aquesta, podem observar que:\n",
    "\n",
    "    1. La variància acumulada augmenta ràpidament amb les primeres components i comença a estabilitzar-se a mesura que s'afegeixen més components.\n",
    "\n",
    "    2. Per explicar almenys el 95% de la variància total de les dades, necessitaríem utilitzar 29 components principals."
   ]
  },
  {
   "cell_type": "code",
   "execution_count": 15,
   "metadata": {},
   "outputs": [
    {
     "data": {
      "text/plain": [
       "array([[-0.44858827, -0.34988644, -0.00386873, -0.37177355,  0.12117688,\n",
       "        -0.38584044,  0.5599586 , -0.18844766,  0.58173657,  0.94191919,\n",
       "         0.45144403, -0.04861193, -0.05918466, -0.133072  , -0.08888731,\n",
       "         0.19386683,  0.09802835, -0.25711418,  0.20805511, -0.32757954,\n",
       "         0.22574491,  0.07970238,  0.21006726, -0.47200619, -0.25638282,\n",
       "         0.29960119,  0.09376465,  0.03283339, -0.2369985 ],\n",
       "       [ 0.25669668, -1.18315932,  0.11864712,  0.01764551, -0.63524821,\n",
       "         0.17898932,  0.30886429,  0.50645501, -0.17667736, -0.39388181,\n",
       "        -0.61666302,  0.30963665, -0.56757698, -0.02673271,  0.07861568,\n",
       "        -0.00983737,  0.27002427, -0.00653447, -0.08178135, -0.18113468,\n",
       "        -0.28895363, -0.06920075, -0.16721503, -0.066702  ,  0.11177719,\n",
       "        -0.01801447, -0.02515382, -0.19938164, -0.00690545],\n",
       "       [ 0.55723092, -1.30716549,  0.33681912,  1.00540177,  0.02310385,\n",
       "         1.10870918, -0.08958979, -0.31360428, -0.27298509, -0.41795975,\n",
       "        -0.15650809, -0.03978337, -0.00732583,  0.24212813, -0.10958038,\n",
       "        -0.18281994, -0.23846615, -0.08661291,  0.18160435, -0.01569626,\n",
       "         0.58278695,  0.04098313, -0.08261606,  0.2363159 ,  0.06492712,\n",
       "         0.03130366, -0.19458982,  0.09604797,  0.02819929],\n",
       "       [-0.79563248, -0.66234195, -0.52805951, -0.46971627, -0.33317761,\n",
       "        -0.11764646, -0.10793585,  0.14008957, -0.17870838, -0.43321595,\n",
       "         0.0308517 ,  0.25522467, -0.0528221 , -0.16645748,  0.0259595 ,\n",
       "         0.15275546, -0.06163136, -0.06582055, -0.01861185,  0.00543556,\n",
       "         0.06483585,  0.08389835, -0.04201702, -0.12921331, -0.33448551,\n",
       "         0.07228331,  0.02558664,  0.25000216, -0.04005954],\n",
       "       [-0.68496811,  0.71170339, -0.27327001, -0.58224373,  0.32367638,\n",
       "         0.68938378,  0.44205126,  0.29498879,  0.51727833,  0.62198054,\n",
       "         0.41134875,  0.38944522, -0.33711651, -0.24839656,  0.04206365,\n",
       "        -0.03056204,  0.0943267 ,  0.51444172,  0.58881467,  0.10129482,\n",
       "         0.00774116, -0.18841342, -0.16109609,  0.00472622,  0.28299259,\n",
       "        -0.03173487, -0.04709056, -0.00284128,  0.03644209]])"
      ]
     },
     "execution_count": 15,
     "metadata": {},
     "output_type": "execute_result"
    }
   ],
   "source": [
    "# Reajustem el PCA amb 29 components\n",
    "pca_29 = PCA(n_components=components_95_variancia)\n",
    "data_reduida = pca_29.fit_transform(data_preprocessada)\n",
    "\n",
    "# Mostrem les primeres files de la representació reduïda\n",
    "data_reduida[:5]"
   ]
  },
  {
   "cell_type": "markdown",
   "metadata": {},
   "source": [
    "# 2. Criteris d'avaluació dels models de mineria de dades"
   ]
  },
  {
   "cell_type": "markdown",
   "metadata": {},
   "source": [
    "Separar Característiques i Variable Objectiu"
   ]
  },
  {
   "cell_type": "code",
   "execution_count": 16,
   "metadata": {},
   "outputs": [],
   "source": [
    "# Separació de les característiques i la variable objectiu\n",
    "X = data_preprocessada.drop('status', axis=1)  # Eliminem la columna objectiu\n",
    "y = data_preprocessada['status']  # La columna objectiu"
   ]
  },
  {
   "cell_type": "markdown",
   "metadata": {},
   "source": [
    "Divisió en Conjunts d'Entrenament i Prova"
   ]
  },
  {
   "cell_type": "code",
   "execution_count": 17,
   "metadata": {},
   "outputs": [],
   "source": [
    "# Divisió del conjunt de dades en entrenament i prova\n",
    "X_train, X_test, y_train, y_test = train_test_split(X, y, test_size=0.2, stratify=y, random_state=42)"
   ]
  },
  {
   "cell_type": "markdown",
   "metadata": {},
   "source": [
    "Configuració de Validació Creuada Estratificada"
   ]
  },
  {
   "cell_type": "code",
   "execution_count": 18,
   "metadata": {},
   "outputs": [],
   "source": [
    "# Configuració de la validació creuada\n",
    "skf = StratifiedKFold(n_splits=10, shuffle=True, random_state=42)"
   ]
  },
  {
   "cell_type": "markdown",
   "metadata": {},
   "source": [
    "Creació i Entrenament del Model de Random Forest"
   ]
  },
  {
   "cell_type": "code",
   "execution_count": 19,
   "metadata": {},
   "outputs": [],
   "source": [
    "# Creació del model de Random Forest\n",
    "rf_classifier = RandomForestClassifier(random_state=42)"
   ]
  },
  {
   "cell_type": "markdown",
   "metadata": {},
   "source": [
    "Avaluació del Model"
   ]
  },
  {
   "cell_type": "code",
   "execution_count": null,
   "metadata": {},
   "outputs": [],
   "source": [
    "# Avaluació del model utilitzant precisió, recuperació i puntuació F1\n",
    "precision = cross_val_score(rf_classifier, X_train, y_train, cv=skf, scoring='precision')\n",
    "recall = cross_val_score(rf_classifier, X_train, y_train, cv=skf, scoring='recall')\n",
    "f1_score = cross_val_score(rf_classifier, X_train, y_train, cv=skf, scoring='f1')\n",
    "\n",
    "print(f'Precisió mitjana: {precision.mean()}')\n",
    "print(f'Recuperació mitjana: {recall.mean()}')\n",
    "print(f'Puntuació F1 mitjana: {f1_score.mean()}')"
   ]
  },
  {
   "cell_type": "markdown",
   "metadata": {},
   "source": [
    "Visualització gràfica dels resultats"
   ]
  },
  {
   "cell_type": "code",
   "execution_count": 21,
   "metadata": {},
   "outputs": [
    {
     "data": {
      "image/png": "[encoded data removed]",
      "text/plain": [
       "<Figure size 1200x600 with 1 Axes>"
      ]
     },
     "metadata": {},
     "output_type": "display_data"
    }
   ],
   "source": [
    "# Visualitzacó dels resultats\n",
    "plt.figure(figsize=(12, 6))\n",
    "plt.plot(range(1, 11), precision, marker='o', linestyle='--', label='Precisió')\n",
    "plt.plot(range(1, 11), recall, marker='o', linestyle='--', label='Recuperació')\n",
    "plt.plot(range(1, 11), f1_score, marker='o', linestyle='--', label='Puntuació F1')\n",
    "plt.xlabel('Iteració')\n",
    "plt.ylabel('Puntuació')\n",
    "plt.title('Resultats de la validació creuada')\n",
    "plt.legend()\n",
    "plt.show()\n"
   ]
  }
 ],
 "metadata": {
  "kernelspec": {
   "display_name": "Python 3",
   "language": "python",
   "name": "python3"
  },
  "language_info": {
   "codemirror_mode": {
    "name": "ipython",
    "version": 3
   },
   "file_extension": ".py",
   "mimetype": "text/x-python",
   "name": "python",
   "nbconvert_exporter": "python",
   "pygments_lexer": "ipython3",
   "version": "3.11.4"
  }
 },
 "nbformat": 4,
 "nbformat_minor": 2
}
